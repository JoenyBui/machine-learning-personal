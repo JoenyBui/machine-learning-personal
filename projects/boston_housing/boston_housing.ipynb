{
 "cells": [
  {
   "cell_type": "markdown",
   "metadata": {},
   "source": [
    "# Machine Learning Engineer Nanodegree\n",
    "## Model Evaluation & Validation\n",
    "## Project: Predicting Boston Housing Prices\n",
    "\n",
    "Welcome to the first project of the Machine Learning Engineer Nanodegree! In this notebook, some template code has already been provided for you, and you will need to implement additional functionality to successfully complete this project. You will not need to modify the included code beyond what is requested. Sections that begin with **'Implementation'** in the header indicate that the following block of code will require additional functionality which you must provide. Instructions will be provided for each section and the specifics of the implementation are marked in the code block with a 'TODO' statement. Please be sure to read the instructions carefully!\n",
    "\n",
    "In addition to implementing code, there will be questions that you must answer which relate to the project and your implementation. Each section where you will answer a question is preceded by a **'Question X'** header. Carefully read each question and provide thorough answers in the following text boxes that begin with **'Answer:'**. Your project submission will be evaluated based on your answers to each of the questions and the implementation you provide.  \n",
    "\n",
    ">**Note:** Code and Markdown cells can be executed using the **Shift + Enter** keyboard shortcut. In addition, Markdown cells can be edited by typically double-clicking the cell to enter edit mode."
   ]
  },
  {
   "cell_type": "markdown",
   "metadata": {},
   "source": [
    "## Getting Started\n",
    "In this project, you will evaluate the performance and predictive power of a model that has been trained and tested on data collected from homes in suburbs of Boston, Massachusetts. A model trained on this data that is seen as a *good fit* could then be used to make certain predictions about a home — in particular, its monetary value. This model would prove to be invaluable for someone like a real estate agent who could make use of such information on a daily basis.\n",
    "\n",
    "The dataset for this project originates from the [UCI Machine Learning Repository](https://archive.ics.uci.edu/ml/datasets/Housing). The Boston housing data was collected in 1978 and each of the 506 entries represent aggregated data about 14 features for homes from various suburbs in Boston, Massachusetts. For the purposes of this project, the following preprocessing steps have been made to the dataset:\n",
    "- 16 data points have an `'MEDV'` value of 50.0. These data points likely contain **missing or censored values** and have been removed.\n",
    "- 1 data point has an `'RM'` value of 8.78. This data point can be considered an **outlier** and has been removed.\n",
    "- The features `'RM'`, `'LSTAT'`, `'PTRATIO'`, and `'MEDV'` are essential. The remaining **non-relevant features** have been excluded.\n",
    "- The feature `'MEDV'` has been **multiplicatively scaled** to account for 35 years of market inflation.\n",
    "\n",
    "Run the code cell below to load the Boston housing dataset, along with a few of the necessary Python libraries required for this project. You will know the dataset loaded successfully if the size of the dataset is reported."
   ]
  },
  {
   "cell_type": "code",
   "execution_count": 1,
   "metadata": {
    "collapsed": false
   },
   "outputs": [
    {
     "name": "stderr",
     "output_type": "stream",
     "text": [
      "/home/joeny/anaconda3/lib/python3.5/site-packages/sklearn/cross_validation.py:44: DeprecationWarning: This module was deprecated in version 0.18 in favor of the model_selection module into which all the refactored classes and functions are moved. Also note that the interface of the new CV iterators are different from that of this module. This module will be removed in 0.20.\n",
      "  \"This module will be removed in 0.20.\", DeprecationWarning)\n"
     ]
    },
    {
     "name": "stdout",
     "output_type": "stream",
     "text": [
      "Boston housing dataset has 489 data points with 4 variables each.\n"
     ]
    },
    {
     "name": "stderr",
     "output_type": "stream",
     "text": [
      "/home/joeny/anaconda3/lib/python3.5/site-packages/sklearn/learning_curve.py:23: DeprecationWarning: This module was deprecated in version 0.18 in favor of the model_selection module into which all the functions are moved. This module will be removed in 0.20\n",
      "  DeprecationWarning)\n"
     ]
    }
   ],
   "source": [
    "# Import libraries necessary for this project\n",
    "import numpy as np\n",
    "import pandas as pd\n",
    "from sklearn.cross_validation import ShuffleSplit\n",
    "\n",
    "# Import supplementary visualizations code visuals.py\n",
    "import visuals as vs\n",
    "\n",
    "# Pretty display for notebooks\n",
    "%matplotlib inline\n",
    "\n",
    "# Load the Boston housing dataset\n",
    "data = pd.read_csv('housing.csv')\n",
    "prices = data['MEDV']\n",
    "features = data.drop('MEDV', axis = 1)\n",
    "    \n",
    "# Success\n",
    "print(\"Boston housing dataset has {} data points with {} variables each.\".format(*data.shape))"
   ]
  },
  {
   "cell_type": "markdown",
   "metadata": {},
   "source": [
    "## Data Exploration\n",
    "In this first section of this project, you will make a cursory investigation about the Boston housing data and provide your observations. Familiarizing yourself with the data through an explorative process is a fundamental practice to help you better understand and justify your results.\n",
    "\n",
    "Since the main goal of this project is to construct a working model which has the capability of predicting the value of houses, we will need to separate the dataset into **features** and the **target variable**. The **features**, `'RM'`, `'LSTAT'`, and `'PTRATIO'`, give us quantitative information about each data point. The **target variable**, `'MEDV'`, will be the variable we seek to predict. These are stored in `features` and `prices`, respectively."
   ]
  },
  {
   "cell_type": "code",
   "execution_count": 2,
   "metadata": {
    "collapsed": false
   },
   "outputs": [
    {
     "data": {
      "text/html": [
       "<div>\n",
       "<table border=\"1\" class=\"dataframe\">\n",
       "  <thead>\n",
       "    <tr style=\"text-align: right;\">\n",
       "      <th></th>\n",
       "      <th>LSTAT</th>\n",
       "      <th>RM</th>\n",
       "      <th>PTRATIO</th>\n",
       "    </tr>\n",
       "  </thead>\n",
       "  <tbody>\n",
       "    <tr>\n",
       "      <th>0</th>\n",
       "      <td>4.98</td>\n",
       "      <td>6.575</td>\n",
       "      <td>15.3</td>\n",
       "    </tr>\n",
       "    <tr>\n",
       "      <th>1</th>\n",
       "      <td>9.14</td>\n",
       "      <td>6.421</td>\n",
       "      <td>17.8</td>\n",
       "    </tr>\n",
       "    <tr>\n",
       "      <th>2</th>\n",
       "      <td>4.03</td>\n",
       "      <td>7.185</td>\n",
       "      <td>17.8</td>\n",
       "    </tr>\n",
       "    <tr>\n",
       "      <th>3</th>\n",
       "      <td>2.94</td>\n",
       "      <td>6.998</td>\n",
       "      <td>18.7</td>\n",
       "    </tr>\n",
       "    <tr>\n",
       "      <th>4</th>\n",
       "      <td>5.33</td>\n",
       "      <td>7.147</td>\n",
       "      <td>18.7</td>\n",
       "    </tr>\n",
       "  </tbody>\n",
       "</table>\n",
       "</div>"
      ],
      "text/plain": [
       "   LSTAT     RM  PTRATIO\n",
       "0   4.98  6.575     15.3\n",
       "1   9.14  6.421     17.8\n",
       "2   4.03  7.185     17.8\n",
       "3   2.94  6.998     18.7\n",
       "4   5.33  7.147     18.7"
      ]
     },
     "execution_count": 2,
     "metadata": {},
     "output_type": "execute_result"
    }
   ],
   "source": [
    "data[['LSTAT', 'RM', 'PTRATIO']].head()"
   ]
  },
  {
   "cell_type": "code",
   "execution_count": 3,
   "metadata": {
    "collapsed": false
   },
   "outputs": [
    {
     "data": {
      "text/html": [
       "<div>\n",
       "<table border=\"1\" class=\"dataframe\">\n",
       "  <thead>\n",
       "    <tr style=\"text-align: right;\">\n",
       "      <th></th>\n",
       "      <th>MEDV</th>\n",
       "    </tr>\n",
       "  </thead>\n",
       "  <tbody>\n",
       "    <tr>\n",
       "      <th>0</th>\n",
       "      <td>504000.0</td>\n",
       "    </tr>\n",
       "    <tr>\n",
       "      <th>1</th>\n",
       "      <td>453600.0</td>\n",
       "    </tr>\n",
       "    <tr>\n",
       "      <th>2</th>\n",
       "      <td>728700.0</td>\n",
       "    </tr>\n",
       "    <tr>\n",
       "      <th>3</th>\n",
       "      <td>701400.0</td>\n",
       "    </tr>\n",
       "    <tr>\n",
       "      <th>4</th>\n",
       "      <td>760200.0</td>\n",
       "    </tr>\n",
       "  </tbody>\n",
       "</table>\n",
       "</div>"
      ],
      "text/plain": [
       "       MEDV\n",
       "0  504000.0\n",
       "1  453600.0\n",
       "2  728700.0\n",
       "3  701400.0\n",
       "4  760200.0"
      ]
     },
     "execution_count": 3,
     "metadata": {},
     "output_type": "execute_result"
    }
   ],
   "source": [
    "data[['MEDV']].head()"
   ]
  },
  {
   "cell_type": "code",
   "execution_count": 4,
   "metadata": {
    "collapsed": false
   },
   "outputs": [
    {
     "data": {
      "text/plain": [
       "MEDV    105000.0\n",
       "dtype: float64"
      ]
     },
     "execution_count": 4,
     "metadata": {},
     "output_type": "execute_result"
    }
   ],
   "source": [
    "data[['MEDV']].min()"
   ]
  },
  {
   "cell_type": "markdown",
   "metadata": {},
   "source": [
    "### Implementation: Calculate Statistics\n",
    "For your very first coding implementation, you will calculate descriptive statistics about the Boston housing prices. Since `numpy` has already been imported for you, use this library to perform the necessary calculations. These statistics will be extremely important later on to analyze various prediction results from the constructed model.\n",
    "\n",
    "In the code cell below, you will need to implement the following:\n",
    "- Calculate the minimum, maximum, mean, median, and standard deviation of `'MEDV'`, which is stored in `prices`.\n",
    "  - Store each calculation in their respective variable."
   ]
  },
  {
   "cell_type": "code",
   "execution_count": 5,
   "metadata": {
    "collapsed": false
   },
   "outputs": [
    {
     "data": {
      "text/plain": [
       "165340.27765266786"
      ]
     },
     "execution_count": 5,
     "metadata": {},
     "output_type": "execute_result"
    }
   ],
   "source": [
    "prices.std()"
   ]
  },
  {
   "cell_type": "code",
   "execution_count": 6,
   "metadata": {
    "collapsed": false
   },
   "outputs": [
    {
     "name": "stdout",
     "output_type": "stream",
     "text": [
      "Statistics for Boston housing dataset:\n",
      "\n",
      "Minimum price: $105,000.00\n",
      "Maximum price: $1,024,800.00\n",
      "Mean price: $454,342.94\n",
      "Median price $438,900.00\n",
      "Standard deviation of prices: $165,340.28\n"
     ]
    }
   ],
   "source": [
    "# TODO: Minimum price of the data\n",
    "minimum_price = prices.min()\n",
    "\n",
    "# TODO: Maximum price of the data\n",
    "maximum_price = prices.max()\n",
    "\n",
    "# TODO: Mean price of the data\n",
    "mean_price = prices.mean()\n",
    "\n",
    "# TODO: Median price of the data\n",
    "median_price = prices.median()\n",
    "\n",
    "# TODO: Standard deviation of prices of the data\n",
    "std_price = prices.std()\n",
    "\n",
    "# Show the calculated statistics\n",
    "print(\"Statistics for Boston housing dataset:\\n\")\n",
    "print(\"Minimum price: ${:,.2f}\".format(minimum_price))\n",
    "print(\"Maximum price: ${:,.2f}\".format(maximum_price))\n",
    "print(\"Mean price: ${:,.2f}\".format(mean_price))\n",
    "print(\"Median price ${:,.2f}\".format(median_price))\n",
    "print(\"Standard deviation of prices: ${:,.2f}\".format(std_price))"
   ]
  },
  {
   "cell_type": "markdown",
   "metadata": {},
   "source": [
    "### Question 1 - Feature Observation\n",
    "As a reminder, we are using three features from the Boston housing dataset: `'RM'`, `'LSTAT'`, and `'PTRATIO'`. For each data point (neighborhood):\n",
    "- `'RM'` is the average number of rooms among homes in the neighborhood.\n",
    "- `'LSTAT'` is the percentage of homeowners in the neighborhood considered \"lower class\" (working poor).\n",
    "- `'PTRATIO'` is the ratio of students to teachers in primary and secondary schools in the neighborhood.\n",
    "\n",
    "_Using your intuition, for each of the three features above, do you think that an increase in the value of that feature would lead to an **increase** in the value of `'MEDV'` or a **decrease** in the value of `'MEDV'`? Justify your answer for each._  \n",
    "**Hint:** Would you expect a home that has an `'RM'` value of 6 be worth more or less than a home that has an `'RM'` value of 7?"
   ]
  },
  {
   "cell_type": "markdown",
   "metadata": {},
   "source": [
    "**Answer: **\n",
    "1. Higher the 'RM', it will increase the value of the home.\n",
    "2. Higher the 'LSTAT', the lower the cost of the home.\n",
    "3. Higher the 'PTRATIO', the lower the value of the home."
   ]
  },
  {
   "cell_type": "markdown",
   "metadata": {},
   "source": [
    "----\n",
    "\n",
    "## Developing a Model\n",
    "In this second section of the project, you will develop the tools and techniques necessary for a model to make a prediction. Being able to make accurate evaluations of each model's performance through the use of these tools and techniques helps to greatly reinforce the confidence in your predictions."
   ]
  },
  {
   "cell_type": "markdown",
   "metadata": {},
   "source": [
    "### Implementation: Define a Performance Metric\n",
    "It is difficult to measure the quality of a given model without quantifying its performance over training and testing. This is typically done using some type of performance metric, whether it is through calculating some type of error, the goodness of fit, or some other useful measurement. For this project, you will be calculating the [*coefficient of determination*](http://stattrek.com/statistics/dictionary.aspx?definition=coefficient_of_determination), R<sup>2</sup>, to quantify your model's performance. The coefficient of determination for a model is a useful statistic in regression analysis, as it often describes how \"good\" that model is at making predictions. \n",
    "\n",
    "The values for R<sup>2</sup> range from 0 to 1, which captures the percentage of squared correlation between the predicted and actual values of the **target variable**. A model with an R<sup>2</sup> of 0 is no better than a model that always predicts the *mean* of the target variable, whereas a model with an R<sup>2</sup> of 1 perfectly predicts the target variable. Any value between 0 and 1 indicates what percentage of the target variable, using this model, can be explained by the **features**. _A model can be given a negative R<sup>2</sup> as well, which indicates that the model is **arbitrarily worse** than one that always predicts the mean of the target variable._\n",
    "\n",
    "For the `performance_metric` function in the code cell below, you will need to implement the following:\n",
    "- Use `r2_score` from `sklearn.metrics` to perform a performance calculation between `y_true` and `y_predict`.\n",
    "- Assign the performance score to the `score` variable."
   ]
  },
  {
   "cell_type": "code",
   "execution_count": 7,
   "metadata": {
    "collapsed": false
   },
   "outputs": [],
   "source": [
    "from sklearn.metrics import r2_score\n",
    "\n",
    "def performance_metric(y_true, y_predict):\n",
    "    \"\"\" Calculates and returns the performance score between \n",
    "        true and predicted values based on the metric chosen. \"\"\"\n",
    "    \n",
    "    # TODO: Calculate the performance score between 'y_true' and 'y_predict'\n",
    "    score = r2_score(y_true=y_true, y_pred=y_predict)\n",
    "    \n",
    "    # Return the score\n",
    "    return score"
   ]
  },
  {
   "cell_type": "markdown",
   "metadata": {},
   "source": [
    "### Question 2 - Goodness of Fit\n",
    "Assume that a dataset contains five data points and a model made the following predictions for the target variable:\n",
    "\n",
    "| True Value | Prediction |\n",
    "| :-------------: | :--------: |\n",
    "| 3.0 | 2.5 |\n",
    "| -0.5 | 0.0 |\n",
    "| 2.0 | 2.1 |\n",
    "| 7.0 | 7.8 |\n",
    "| 4.2 | 5.3 |\n",
    "*Would you consider this model to have successfully captured the variation of the target variable? Why or why not?* \n",
    "\n",
    "Run the code cell below to use the `performance_metric` function and calculate this model's coefficient of determination."
   ]
  },
  {
   "cell_type": "code",
   "execution_count": 8,
   "metadata": {
    "collapsed": false
   },
   "outputs": [
    {
     "name": "stdout",
     "output_type": "stream",
     "text": [
      "Model has a coefficient of determination, R^2, of 0.923.\n"
     ]
    }
   ],
   "source": [
    "# Calculate the performance of this model\n",
    "score = performance_metric([3, -0.5, 2, 7, 4.2], [2.5, 0.0, 2.1, 7.8, 5.3])\n",
    "print(\"Model has a coefficient of determination, R^2, of {:.3f}.\".format(score))"
   ]
  },
  {
   "cell_type": "markdown",
   "metadata": {},
   "source": [
    "**Answer:** Yes.  The difference between the true value and the predicted value seems very minor."
   ]
  },
  {
   "cell_type": "markdown",
   "metadata": {},
   "source": [
    "### Implementation: Shuffle and Split Data\n",
    "Your next implementation requires that you take the Boston housing dataset and split the data into training and testing subsets. Typically, the data is also shuffled into a random order when creating the training and testing subsets to remove any bias in the ordering of the dataset.\n",
    "\n",
    "For the code cell below, you will need to implement the following:\n",
    "- Use `train_test_split` from `sklearn.cross_validation` to shuffle and split the `features` and `prices` data into training and testing sets.\n",
    "  - Split the data into 80% training and 20% testing.\n",
    "  - Set the `random_state` for `train_test_split` to a value of your choice. This ensures results are consistent.\n",
    "- Assign the train and testing splits to `X_train`, `X_test`, `y_train`, and `y_test`."
   ]
  },
  {
   "cell_type": "code",
   "execution_count": 9,
   "metadata": {
    "collapsed": true
   },
   "outputs": [],
   "source": [
    "from sklearn.cross_validation import train_test_split"
   ]
  },
  {
   "cell_type": "code",
   "execution_count": 10,
   "metadata": {
    "collapsed": true
   },
   "outputs": [],
   "source": [
    "import random"
   ]
  },
  {
   "cell_type": "code",
   "execution_count": 11,
   "metadata": {
    "collapsed": false
   },
   "outputs": [
    {
     "name": "stdout",
     "output_type": "stream",
     "text": [
      "Training and testing split was successful.\n"
     ]
    }
   ],
   "source": [
    "X_train, X_test, y_train, y_test = train_test_split(features, prices, test_size=0.2, train_size=0.8, random_state=42)\n",
    "\n",
    "# Success\n",
    "print(\"Training and testing split was successful.\")"
   ]
  },
  {
   "cell_type": "code",
   "execution_count": 12,
   "metadata": {
    "collapsed": false
   },
   "outputs": [
    {
     "data": {
      "text/html": [
       "<div>\n",
       "<table border=\"1\" class=\"dataframe\">\n",
       "  <thead>\n",
       "    <tr style=\"text-align: right;\">\n",
       "      <th></th>\n",
       "      <th>RM</th>\n",
       "      <th>LSTAT</th>\n",
       "      <th>PTRATIO</th>\n",
       "    </tr>\n",
       "  </thead>\n",
       "  <tbody>\n",
       "    <tr>\n",
       "      <th>325</th>\n",
       "      <td>5.869</td>\n",
       "      <td>9.80</td>\n",
       "      <td>20.2</td>\n",
       "    </tr>\n",
       "    <tr>\n",
       "      <th>140</th>\n",
       "      <td>6.174</td>\n",
       "      <td>24.16</td>\n",
       "      <td>21.2</td>\n",
       "    </tr>\n",
       "    <tr>\n",
       "      <th>433</th>\n",
       "      <td>6.749</td>\n",
       "      <td>17.44</td>\n",
       "      <td>20.2</td>\n",
       "    </tr>\n",
       "    <tr>\n",
       "      <th>416</th>\n",
       "      <td>6.436</td>\n",
       "      <td>16.22</td>\n",
       "      <td>20.2</td>\n",
       "    </tr>\n",
       "    <tr>\n",
       "      <th>487</th>\n",
       "      <td>6.794</td>\n",
       "      <td>6.48</td>\n",
       "      <td>21.0</td>\n",
       "    </tr>\n",
       "  </tbody>\n",
       "</table>\n",
       "</div>"
      ],
      "text/plain": [
       "        RM  LSTAT  PTRATIO\n",
       "325  5.869   9.80     20.2\n",
       "140  6.174  24.16     21.2\n",
       "433  6.749  17.44     20.2\n",
       "416  6.436  16.22     20.2\n",
       "487  6.794   6.48     21.0"
      ]
     },
     "execution_count": 12,
     "metadata": {},
     "output_type": "execute_result"
    }
   ],
   "source": [
    "X_train.head()"
   ]
  },
  {
   "cell_type": "code",
   "execution_count": 13,
   "metadata": {
    "collapsed": false
   },
   "outputs": [
    {
     "data": {
      "text/html": [
       "<div>\n",
       "<table border=\"1\" class=\"dataframe\">\n",
       "  <thead>\n",
       "    <tr style=\"text-align: right;\">\n",
       "      <th></th>\n",
       "      <th>RM</th>\n",
       "      <th>LSTAT</th>\n",
       "      <th>PTRATIO</th>\n",
       "    </tr>\n",
       "  </thead>\n",
       "  <tbody>\n",
       "    <tr>\n",
       "      <th>451</th>\n",
       "      <td>5.926</td>\n",
       "      <td>18.13</td>\n",
       "      <td>20.2</td>\n",
       "    </tr>\n",
       "    <tr>\n",
       "      <th>84</th>\n",
       "      <td>6.389</td>\n",
       "      <td>9.62</td>\n",
       "      <td>18.5</td>\n",
       "    </tr>\n",
       "    <tr>\n",
       "      <th>434</th>\n",
       "      <td>6.655</td>\n",
       "      <td>17.73</td>\n",
       "      <td>20.2</td>\n",
       "    </tr>\n",
       "    <tr>\n",
       "      <th>472</th>\n",
       "      <td>5.414</td>\n",
       "      <td>23.97</td>\n",
       "      <td>20.1</td>\n",
       "    </tr>\n",
       "    <tr>\n",
       "      <th>428</th>\n",
       "      <td>6.459</td>\n",
       "      <td>23.98</td>\n",
       "      <td>20.2</td>\n",
       "    </tr>\n",
       "  </tbody>\n",
       "</table>\n",
       "</div>"
      ],
      "text/plain": [
       "        RM  LSTAT  PTRATIO\n",
       "451  5.926  18.13     20.2\n",
       "84   6.389   9.62     18.5\n",
       "434  6.655  17.73     20.2\n",
       "472  5.414  23.97     20.1\n",
       "428  6.459  23.98     20.2"
      ]
     },
     "execution_count": 13,
     "metadata": {},
     "output_type": "execute_result"
    }
   ],
   "source": [
    "X_test.head()"
   ]
  },
  {
   "cell_type": "code",
   "execution_count": 14,
   "metadata": {
    "collapsed": false
   },
   "outputs": [
    {
     "data": {
      "text/plain": [
       "325    409500.0\n",
       "140    294000.0\n",
       "433    281400.0\n",
       "416    300300.0\n",
       "487    462000.0\n",
       "Name: MEDV, dtype: float64"
      ]
     },
     "execution_count": 14,
     "metadata": {},
     "output_type": "execute_result"
    }
   ],
   "source": [
    "y_train.head()"
   ]
  },
  {
   "cell_type": "code",
   "execution_count": 15,
   "metadata": {
    "collapsed": false
   },
   "outputs": [
    {
     "data": {
      "text/plain": [
       "451    401100.0\n",
       "84     501900.0\n",
       "434    319200.0\n",
       "472    147000.0\n",
       "428    247800.0\n",
       "Name: MEDV, dtype: float64"
      ]
     },
     "execution_count": 15,
     "metadata": {},
     "output_type": "execute_result"
    }
   ],
   "source": [
    "y_test.head()"
   ]
  },
  {
   "cell_type": "markdown",
   "metadata": {},
   "source": [
    "### Question 3 - Training and Testing\n",
    "*What is the benefit to splitting a dataset into some ratio of training and testing subsets for a learning algorithm?*  \n",
    "**Hint:** What could go wrong with not having a way to test your model?"
   ]
  },
  {
   "cell_type": "markdown",
   "metadata": {},
   "source": [
    "**Answer: **\n",
    "Splitting your data allows you to test your algorithm to see how well it's doing.  If you use all your data to train, you won't know how well your algorithm performs with \"real\" data."
   ]
  },
  {
   "cell_type": "markdown",
   "metadata": {},
   "source": [
    "----\n",
    "\n",
    "## Analyzing Model Performance\n",
    "In this third section of the project, you'll take a look at several models' learning and testing performances on various subsets of training data. Additionally, you'll investigate one particular algorithm with an increasing `'max_depth'` parameter on the full training set to observe how model complexity affects performance. Graphing your model's performance based on varying criteria can be beneficial in the analysis process, such as visualizing behavior that may not have been apparent from the results alone."
   ]
  },
  {
   "cell_type": "markdown",
   "metadata": {},
   "source": [
    "### Learning Curves\n",
    "The following code cell produces four graphs for a decision tree model with different maximum depths. Each graph visualizes the learning curves of the model for both training and testing as the size of the training set is increased. Note that the shaded region of a learning curve denotes the uncertainty of that curve (measured as the standard deviation). The model is scored on both the training and testing sets using R<sup>2</sup>, the coefficient of determination.  \n",
    "\n",
    "Run the code cell below and use these graphs to answer the following question."
   ]
  },
  {
   "cell_type": "code",
   "execution_count": 16,
   "metadata": {
    "collapsed": false,
    "scrolled": false
   },
   "outputs": [
    {
     "data": {
      "image/png": "[encoded data removed]",
      "text/plain": [
       "<matplotlib.figure.Figure at 0x7fc441eee198>"
      ]
     },
     "metadata": {},
     "output_type": "display_data"
    }
   ],
   "source": [
    "# Produce learning curves for varying training set sizes and maximum depths\n",
    "vs.ModelLearning(features, prices)"
   ]
  },
  {
   "cell_type": "markdown",
   "metadata": {},
   "source": [
    "### Question 4 - Learning the Data\n",
    "*Choose one of the graphs above and state the maximum depth for the model. What happens to the score of the training curve as more training points are added? What about the testing curve? Would having more training points benefit the model?*  \n",
    "**Hint:** Are the learning curves converging to particular scores?"
   ]
  },
  {
   "cell_type": "markdown",
   "metadata": {},
   "source": [
    "**Answer: **\n",
    "max_depth=3 looks to be the best option, as it converges pretty quickly once the amount of training point reaches to 250.  The score looks to be around 0.8.  As the max_depth increases, the amount of training points required to get a convergence looks like it's \"exponentially\" higher."
   ]
  },
  {
   "cell_type": "markdown",
   "metadata": {},
   "source": [
    "### Complexity Curves\n",
    "The following code cell produces a graph for a decision tree model that has been trained and validated on the training data using different maximum depths. The graph produces two complexity curves — one for training and one for validation. Similar to the **learning curves**, the shaded regions of both the complexity curves denote the uncertainty in those curves, and the model is scored on both the training and validation sets using the `performance_metric` function.  \n",
    "\n",
    "Run the code cell below and use this graph to answer the following two questions."
   ]
  },
  {
   "cell_type": "code",
   "execution_count": 17,
   "metadata": {
    "collapsed": false
   },
   "outputs": [
    {
     "data": {
      "image/png": "[encoded data removed]",
      "text/plain": [
       "<matplotlib.figure.Figure at 0x7fc43de8c400>"
      ]
     },
     "metadata": {},
     "output_type": "display_data"
    }
   ],
   "source": [
    "vs.ModelComplexity(X_train, y_train)"
   ]
  },
  {
   "cell_type": "markdown",
   "metadata": {},
   "source": [
    "### Question 5 - Bias-Variance Tradeoff\n",
    "*When the model is trained with a maximum depth of 1, does the model suffer from high bias or from high variance? How about when the model is trained with a maximum depth of 10? What visual cues in the graph justify your conclusions?*  \n",
    "**Hint:** How do you know when a model is suffering from high bias or high variance?"
   ]
  },
  {
   "cell_type": "markdown",
   "metadata": {},
   "source": [
    "**Answer: **\n",
    "At depth 1, the model suffers from high bias.  At higher maximum depth, the model suffer from a higher variance.  The higher the band of uncertainty, the higher the variance."
   ]
  },
  {
   "cell_type": "markdown",
   "metadata": {},
   "source": [
    "### Question 6 - Best-Guess Optimal Model\n",
    "*Which maximum depth do you think results in a model that best generalizes to unseen data? What intuition lead you to this answer?*"
   ]
  },
  {
   "cell_type": "markdown",
   "metadata": {},
   "source": [
    "**Answer: **\n",
    "Maximum depth of 3 looks to be the best.  The validation score is closest to the training score."
   ]
  },
  {
   "cell_type": "markdown",
   "metadata": {},
   "source": [
    "-----\n",
    "\n",
    "## Evaluating Model Performance\n",
    "In this final section of the project, you will construct a model and make a prediction on the client's feature set using an optimized model from `fit_model`."
   ]
  },
  {
   "cell_type": "markdown",
   "metadata": {},
   "source": [
    "### Question 7 - Grid Search\n",
    "*What is the grid search technique and how it can be applied to optimize a learning algorithm?*"
   ]
  },
  {
   "cell_type": "markdown",
   "metadata": {},
   "source": [
    "**Answer: **\n",
    "The grid search technique is used to break down a dataset to smaller portion, and then for each portion you build a SVM amongst it - and then you test the other segment based off of it.  You repeat it with the other segments.  Then you average and output the best parameters based off of the average."
   ]
  },
  {
   "cell_type": "markdown",
   "metadata": {},
   "source": [
    "### Question 8 - Cross-Validation\n",
    "*What is the k-fold cross-validation training technique? What benefit does this technique provide for grid search when optimizing a model?*  \n",
    "**Hint:** Much like the reasoning behind having a testing set, what could go wrong with using grid search without a cross-validated set?"
   ]
  },
  {
   "cell_type": "markdown",
   "metadata": {},
   "source": [
    "**Answer: **\n",
    "The sample is split into 'k' segment.  You take one segment out and then train the model with the remaining (k-1).  You then choose another segment and then repeat.  No segment should be test twice.  Once finish, you average out the parameters.\n",
    "\n",
    "Benefits is that each data point is applied to the model.  As well as speed, another disadvantage is that if the k parameter is too high, then we won't have enough testing data and therefore it could lead into too much variance."
   ]
  },
  {
   "cell_type": "markdown",
   "metadata": {},
   "source": [
    "### Implementation: Fitting a Model\n",
    "Your final implementation requires that you bring everything together and train a model using the **decision tree algorithm**. To ensure that you are producing an optimized model, you will train the model using the grid search technique to optimize the `'max_depth'` parameter for the decision tree. The `'max_depth'` parameter can be thought of as how many questions the decision tree algorithm is allowed to ask about the data before making a prediction. Decision trees are part of a class of algorithms called *supervised learning algorithms*.\n",
    "\n",
    "In addition, you will find your implementation is using `ShuffleSplit()` for an alternative form of cross-validation (see the `'cv_sets'` variable). While it is not the K-Fold cross-validation technique you describe in **Question 8**, this type of cross-validation technique is just as useful!. The `ShuffleSplit()` implementation below will create 10 (`'n_splits'`) shuffled sets, and for each shuffle, 20% (`'test_size'`) of the data will be used as the *validation set*. While you're working on your implementation, think about the contrasts and similarities it has to the K-fold cross-validation technique.\n",
    "\n",
    "Please note that ShuffleSplit has different parameters in scikit-learn versions 0.17 and 0.18.\n",
    "For the `fit_model` function in the code cell below, you will need to implement the following:\n",
    "- Use [`DecisionTreeRegressor`](http://scikit-learn.org/stable/modules/generated/sklearn.tree.DecisionTreeRegressor.html) from `sklearn.tree` to create a decision tree regressor object.\n",
    "  - Assign this object to the `'regressor'` variable.\n",
    "- Create a dictionary for `'max_depth'` with the values from 1 to 10, and assign this to the `'params'` variable.\n",
    "- Use [`make_scorer`](http://scikit-learn.org/stable/modules/generated/sklearn.metrics.make_scorer.html) from `sklearn.metrics` to create a scoring function object.\n",
    "  - Pass the `performance_metric` function as a parameter to the object.\n",
    "  - Assign this scoring function to the `'scoring_fnc'` variable.\n",
    "- Use [`GridSearchCV`](http://scikit-learn.org/0.17/modules/generated/sklearn.grid_search.GridSearchCV.html) from `sklearn.grid_search` to create a grid search object.\n",
    "  - Pass the variables `'regressor'`, `'params'`, `'scoring_fnc'`, and `'cv_sets'` as parameters to the object. \n",
    "  - Assign the `GridSearchCV` object to the `'grid'` variable."
   ]
  },
  {
   "cell_type": "code",
   "execution_count": 18,
   "metadata": {
    "collapsed": false
   },
   "outputs": [
    {
     "name": "stderr",
     "output_type": "stream",
     "text": [
      "/home/joeny/anaconda3/lib/python3.5/site-packages/sklearn/grid_search.py:43: DeprecationWarning: This module was deprecated in version 0.18 in favor of the model_selection module into which all the refactored classes and functions are moved. This module will be removed in 0.20.\n",
      "  DeprecationWarning)\n"
     ]
    }
   ],
   "source": [
    "from sklearn.metrics import make_scorer\n",
    "from sklearn.tree import DecisionTreeRegressor\n",
    "from sklearn.grid_search import GridSearchCV"
   ]
  },
  {
   "cell_type": "code",
   "execution_count": 25,
   "metadata": {
    "collapsed": true
   },
   "outputs": [],
   "source": [
    "from sklearn.model_selection import ShuffleSplit"
   ]
  },
  {
   "cell_type": "code",
   "execution_count": 26,
   "metadata": {
    "collapsed": true
   },
   "outputs": [],
   "source": [
    "#from sklearn.cross_validation import ShuffleSplit"
   ]
  },
  {
   "cell_type": "code",
   "execution_count": 27,
   "metadata": {
    "collapsed": false
   },
   "outputs": [],
   "source": [
    "def fit_model(X, y):\n",
    "    \"\"\" Performs grid search over the 'max_depth' parameter for a \n",
    "        decision tree regressor trained on the input data [X, y]. \"\"\"\n",
    "    \n",
    "    # Create cross-validation sets from the training data\n",
    "    cv_sets = ShuffleSplit(n_splits = 10, test_size = 0.20, random_state = 0)\n",
    "    cv_sets.split(X.shape[0])\n",
    "    \n",
    "    # TODO: Create a decision tree regressor object\n",
    "    regressor = None\n",
    "\n",
    "    # TODO: Create a dictionary for the parameter 'max_depth' with a range from 1 to 10\n",
    "    params = {}\n",
    "\n",
    "    # TODO: Transform 'performance_metric' into a scoring function using 'make_scorer' \n",
    "    scoring_fnc = None\n",
    "\n",
    "    # TODO: Create the grid search object\n",
    "    grid = None\n",
    "\n",
    "    # Fit the grid search object to the data to compute the optimal model\n",
    "    grid = grid.fit(X, y)\n",
    "\n",
    "    # Return the optimal model after fitting the data\n",
    "    return grid.best_estimator_"
   ]
  },
  {
   "cell_type": "markdown",
   "metadata": {},
   "source": [
    "### Making Predictions\n",
    "Once a model has been trained on a given set of data, it can now be used to make predictions on new sets of input data. In the case of a *decision tree regressor*, the model has learned *what the best questions to ask about the input data are*, and can respond with a prediction for the **target variable**. You can use these predictions to gain information about data where the value of the target variable is unknown — such as data the model was not trained on."
   ]
  },
  {
   "cell_type": "markdown",
   "metadata": {},
   "source": [
    "### Question 9 - Optimal Model\n",
    "_What maximum depth does the optimal model have? How does this result compare to your guess in **Question 6**?_  \n",
    "\n",
    "Run the code block below to fit the decision tree regressor to the training data and produce an optimal model."
   ]
  },
  {
   "cell_type": "code",
   "execution_count": 33,
   "metadata": {
    "collapsed": false
   },
   "outputs": [],
   "source": [
    "cv_sets = ShuffleSplit(n_splits = 10, test_size = 0.20, random_state = 0)"
   ]
  },
  {
   "cell_type": "code",
   "execution_count": 35,
   "metadata": {
    "collapsed": false
   },
   "outputs": [
    {
     "ename": "ValueError",
     "evalue": "too many values to unpack (expected 2)",
     "traceback": [
      "\u001b[0;31m---------------------------------------------------------------------------\u001b[0m",
      "\u001b[0;31mValueError\u001b[0m                                Traceback (most recent call last)",
      "\u001b[0;32m<ipython-input-35-8b9f613cd519>\u001b[0m in \u001b[0;36m<module>\u001b[0;34m()\u001b[0m\n\u001b[0;32m----> 1\u001b[0;31m \u001b[0mc\u001b[0m\u001b[0;34m,\u001b[0m \u001b[0mv\u001b[0m \u001b[0;34m=\u001b[0m \u001b[0mcv_sets\u001b[0m\u001b[0;34m.\u001b[0m\u001b[0msplit\u001b[0m\u001b[0;34m(\u001b[0m\u001b[0mX_train\u001b[0m\u001b[0;34m.\u001b[0m\u001b[0mshape\u001b[0m\u001b[0;34m)\u001b[0m\u001b[0;34m\u001b[0m\u001b[0m\n\u001b[0m",
      "\u001b[0;31mValueError\u001b[0m: too many values to unpack (expected 2)"
     ],
     "output_type": "error"
    }
   ],
   "source": [
    "c, v = cv_sets.split(X_train.shape)"
   ]
  },
  {
   "cell_type": "code",
   "execution_count": 44,
   "metadata": {
    "collapsed": false
   },
   "outputs": [
    {
     "name": "stdout",
     "output_type": "stream",
     "text": [
      "Testing...\n",
      "[ 56   8 264 134 371 275 311 229  63 235 352 276  81 340 240 362  89 167\n",
      "  21 302 181 200  49 217 354  92 374 280 212 145 351  22 231 113 303 155\n",
      " 158 179  66 219 153  12 101 304 297 318 198  17 204 150 390  30 114 140\n",
      " 103 171 224 173 116 322 120 170 253 300 136 268 126 307 296 274 133  33\n",
      " 369  34 238  97  85 379 356 223 382 381 191 108  46 313 176 234  73 137\n",
      " 372 190 387  29 281  51 320 343  27   2 199 156 246 367 345 138 215 293\n",
      " 324 271 218  35 259 334  24 260  44 220 129  93 111 166 278 365 252  18\n",
      " 380  79 228 230  71 254 330 376 221 160 104 161  83 189 388 118 233 188\n",
      " 208 366 110 149 157 152  16 316  75 109 319 205 272 139 237 384   4  96\n",
      "  14  61 236  67 312 194 154 385 301  19 364  40 112  13 107 226 299   3\n",
      " 269 125  77 184 294 370 368 182 347  80 258  11 326  86 266  36 373  58\n",
      "  41 270  50 209 310 309 386 123 222  62 295 130 187  23  43   0 201 331\n",
      "  98 378 178 256  94 360  95 342 169  69 305  48 207 279 227 148 143 180\n",
      " 131 348 389 262 203  84 121 336 357  91  82 267 119 291  57 321 257 346\n",
      "  42 105 273 344  38  53 358 128 290  28 183 163 151 244 202  31  32 127\n",
      " 185 363 288 353 147 285 361 177  99 338 335 197 243 115 265  72 333  25\n",
      " 165 337 375 174 377  39 193 314  88  70  87 292 242 277 211   9 359 195\n",
      " 251 323 192 117  47 172]\n",
      "[ 54 124 350 175 284 213 306 283 100 196 142  37 122 308 247  59  68 168\n",
      " 255  52 327 245 315  76 355 159 298 162 214 216 287 325 341 383   6   1\n",
      " 339 317 232 146 102  60 282  10  26  45  65 141 286 186 329  15 206 249\n",
      "   5  74 144   7 261 328 132 225 239 332  20 349 241 263  78 135 164  64\n",
      "  55  90 210 106 248 250 289]\n",
      "Testing...\n",
      "[ 85 311 354 337 336 198  18 328 203 141 172 251  50 269 113  33 388  39\n",
      " 215 160 235  10  68 268 293 175 369   2   9 212 214 310 145 255 379 217\n",
      " 247  42 242 359 193 232 106  84 335 279 375 315 130 187  71  49 271 199\n",
      " 116  37 142  48 167 306 281 227 163  76  64 110  52 307 124  87 216 340\n",
      " 334 154 158 118 264 323 191 303 316  97 146 254 329  58 283  69 249 152\n",
      " 267  17 287 260 239 341 299  57 238 170  47 189  45 318  62  78 387 361\n",
      " 273 140 308 129 127 244 372 380 144 350  21  25 136  35  81 252 384  77\n",
      " 367 253 278 109 230 296 101 312  92 241 236 291  28 346 364  70 373 211\n",
      " 304 165 188 331 345  34  88 322 192 360 120 184 155 277 356 355 320 200\n",
      "  66  80 288 333  12 161 257 286 174 290 221 159 385 317 219 229 114 262\n",
      " 220  82 166 169  15 245 289   6 319 338 104  61 208  51  90 207  22 326\n",
      " 218  73 297 205 386 190 164 376 194  93 132 233 173 178 115  32 206 282\n",
      "  96 123 344  74  89  38 179   0  46 171 149 390 107 133 256 223  83 102\n",
      " 108 213 195 321 246  72  94 125 135 197 201 248 224  26 377 284 168 383\n",
      "   3 134 325 358 186  24 295 128 314 228 131 225 226 330 274 332 366 111\n",
      "  91 265  63  43 347 389 138 112 324 292  20  65 298 126 259 148 209 339\n",
      " 182 137 105   7 342 119 309 371  29 185 357 353 276 153  54  30 343 305\n",
      " 100   4 280 151 237 370]\n",
      "[180 351 204  40 327  56 250 147  31 177  27 156 157  14 261 275 143 382\n",
      " 368 240  98 183  16 139 301  95 378  55  13 122  79 117 243 222 270 363\n",
      "  86 348   8 162 196  53  60 365  11 285 272 362 294 374   1 300   5 231\n",
      "  23  59  75 263  99 258 121  41 202  36 210 352 313 349 150  19 176 266\n",
      " 234 103 302 381 181  44  67]\n",
      "Testing...\n",
      "[233 104  17 349  66  41 222 235 231 227  49 353 372   4 245 285 259  75\n",
      " 276 298 248  91  44 380 191  20 143 160  18 335 201 212 161 120 194  27\n",
      " 339 162 361 369  22  57 242 186 176 107 277  50 149 140 262 254  70 351\n",
      " 105  10 224 184 142 363  31  64 193 387 309  72 311 236  33 178   1 375\n",
      " 221 219 156 256 232 202  76 307 388 181  58 172 106 378 211 258 192 187\n",
      " 136  73  85  28 146 129 263 358  60 223 208 234 210 305 386 301 220  82\n",
      " 198 203 313 314 115 270 336 302  55 247 195 139 113 352 343 204 102 308\n",
      " 355 118 103 385 265  78  15 280 121 133 333 297 251 174 344   3 218 151\n",
      "  16  51 273 274  89   6  45  95 237  25 304 295 341 147  97 240 284 226\n",
      " 111 196 271 183 213 244 292 289 366 185 122 170 320  21  98 175 389  81\n",
      "  77 303  24 132 381  88 340  38 299 164 306 117 329 261 266 332   2 293\n",
      "  96 182 345 199 367 282 119 356 354 239 110  43 346 300 134 217  87 200\n",
      " 357  65 359 167 272 216 165 238  94 225  29  59 296 179 331 188  40 169\n",
      "  93 250 371 316 214 123  74 148 260  19 370  30 150 362 157 253 100 197\n",
      " 209 264 275 101  13  68 112 315  71 163 337  54 290  90 286 334  11 114\n",
      "  47 155 384 246 158 278   7 347 279 374 327 228 206 230  79 190   9 145\n",
      "  48 318 312 255 229 116  84 368 144 323  61 131 252 330 207 215   0  80\n",
      " 180 135  83 241 154 348]\n",
      "[168 243 108 171 173  67  52 152  35  69 267 350  12 127 124 342 141   8\n",
      "  14 322   5 288 109 189 159  46 326 268 137 377 294 328 287  36 126 317\n",
      " 269  39  62 338 376  26  53 257 379 177 383  56 365 205 310 382 153  86\n",
      " 325 321  23 324  37 364 166  92 291  63 281 390 373  99  42  32 125 130\n",
      " 138 249  34 319 283 360 128]\n",
      "Testing...\n",
      "[369 189 364 223  31 150 294 235  91   3  20 359  18  78 264 166 344  89\n",
      " 139  26 370 262   7  82 175 101  93 219  67 304 134 209 360 290 127  46\n",
      " 367  97 154 159 173 362 152 162  14 146 242 314 207 292 267  73  72 325\n",
      " 149 341 279 122 324 332   4 301 303  87  32  52 192 190 135 273 343 125\n",
      " 120 164 168 230  10  86  84 182 310 188 289 170 388 253 237 372 233  59\n",
      " 144 180  76   5 305 102  22  62 248  17 221 384  51 389  63 328 177 247\n",
      " 163 338 319 317 342 335  27 299 106 346 306 111  21 142 329 256  95 249\n",
      "  28 203 340 238   2 296  85 133 107 259 148 333  64 174 211   8 195 171\n",
      " 121 112  80 236  45  98  19  43  96 348 178 108 260 100 153 307 129   1\n",
      "  71 246 193  69 217 361  48 227 118 161 334 252 200 213 382 311 244 366\n",
      " 231 327 215  55 119  83 172 143  94 224 208 218  16 116 104 160  24 352\n",
      " 326 239  88 263  30 380 379 283  40  37 300  38 308 347 276 313 184 320\n",
      "  23 275 355 349 130  42 181 157 274  15 137 363 199  81  47 386  65 220\n",
      " 194 186 284 288 266 339 351 140 282  77  39 158 250 356 322 258 251 257\n",
      "  13 123 272 357 280  58 241 353 330 234 167 277  56 228 245  33 131 155\n",
      " 285 323 337  60  29 270  35 147 114 286 377 358  99 124 198  12 176 225\n",
      "  50 265 381  49 128 291 373 222 385 336  36 105 132 375 185  68 103  61\n",
      " 165 205  92 109 212   0]\n",
      "[136 312   9 196 297 255 321 145  44 183 368 191 151 371 269 206 295  70\n",
      "  34  54  41 156 240 302 374 261 309 187 350 281  66  74  90 278 376 316\n",
      " 204 169 229  75 315 345 268  53 354   6 226 390  57 110 214 117 318 365\n",
      " 387 378  11  25 287 254 141 113 383 293 331 243 232 138 298 201 179 216\n",
      " 126 210 115 197  79 271 202]\n",
      "Testing...\n",
      "[ 86 127 300 363 302 369  67 148 119 164 138 334 277 170  47 332 100 214\n",
      " 264 376 361 360 222  41 276  97 355 192 321 207 158 213 175 238 339 268\n",
      " 256 182 291 220 345 161 216  69 281 155 298 113 340  53 279 349 295 373\n",
      "  80 254 226  87 240 173 230 304 271   9 390 347  77  28 137   6 382 194\n",
      " 380  62 122 235 201 384 116  31  22 375 314 273 224   0  94 106 270  85\n",
      "  68 350 118 109 246 389 367 221 296  30 160 239 171 275 120 154 172  59\n",
      " 377 211 111  45 329  57 290  83  23 266 179 387 381 187 310 124 218 272\n",
      " 165 203 159 346 149 231  88  52 228 262 136 130  60 333 259 306 354 379\n",
      " 370  81 269   3 343  38  13 385 303  16 365 356 362  51 319 307 301   2\n",
      " 317 112 386 320 383 252 260  93 257  74  48 316 299 366 204 177 139 357\n",
      "  11  34 178 289 184 101  89  82  65 234 286 167 110 284 287 181 117  61\n",
      " 151 209  35 227  46  14 359   7 195 147  12  50 324  25 250  36 121 193\n",
      " 288 142 267 309 223 168 293  29  63 146  21 152  75  49 103  42 352  55\n",
      " 141  43 280 202  10 311 174 241 114 129 326  72 210 255  26  99 388 285\n",
      " 364 217 150 297 336 335  39 261 328 327  66 180   4  15 206 315 225 232\n",
      " 140 344  73   5  58  71 305  91 108  95  92 102 330 372 348 318 131 278\n",
      "  96 133 185 144 208 169 196 190 125 212 197  19 126 292  54 189 323 247\n",
      "  64 337 115 265   1 341]\n",
      "[123  90 248 283 134 107 188 205 274 251 308 145 242 162 153 143  79 200\n",
      " 198 191 358 237  84 199 229 132 253 128 322 236 342 186  37 233 313 263\n",
      " 135 353 378 294  70 176  44 245 338  78 215 244  18  56  33 331   8 368\n",
      "  98  17 249  24 243  40 374 371 166 105 258  32 156 104 157  27  76 325\n",
      " 351 282  20 163 183 312 219]\n",
      "Testing...\n",
      "[ 34 353  99  23  22  53 292 382 216 242 327 321 375 202 239  41  96 213\n",
      " 224 144 106 255  42 164 282  85  44 347 156 116  25 384 360 173 118 244\n",
      "  61 210  10 252 204  12 287 185 141 121 130 129 154 132 381  94 249 352\n",
      "  28  80  82  54 219 103 317 243 127 160 190 303 158  74  39 312  84 153\n",
      " 195  89  31  59 294 291 168 251  50 147 102 205 137 307 365 238  93  37\n",
      " 258 181 389 182 265  27 290  92 299 342  43 184 247 135  95 345  58 318\n",
      " 176 298 217 169 295 272 297 256 323 105 368  13 383 149 107 320 268   1\n",
      " 367 331  76 304 269 329 245 163 140  36 188 281 280  87 390  65 235 263\n",
      "   6 271 151 380  51 387 343 344 322 359 257  52 120  14 326  20 138 159\n",
      " 306 341 189  16  62  66 193 122   8  49 286 174 262  55 288 379 264 278\n",
      " 314 117  48 220 201 199 223  73  26 386 211 111 358 191 315 177 337 369\n",
      " 289 123 150 198  40 178 302 246 340 350 206  97  75  72 126  29 388 231\n",
      " 324 377 285  45 125 171 385  32  68 186 133 319 225 311  90 301  79 203\n",
      "  56  67 325 131 348 313  11 112   3 305 351 155 157 100 332 221 197   2\n",
      "  18 229 200 328 134 361 260  47 296 267 194 175 114 363  17 237 214 143\n",
      " 207  38 145 101 222  63  21 187 228  91 378   0 254 115 236 172 300 349\n",
      " 128 259 354  30 108 110 233  81 334  78 250 273   5 310 139 336 376   7\n",
      " 293 309 366 283 119 277]\n",
      "[170 142   9 113 146 316 276  15  98 215 253 226 371 136  77  57 212  35\n",
      "  33  24  83 166 308 165 109 372 192 333 373 330 284 346 162 355 279 209\n",
      " 370 124 161 148 364  46  69 234 362 218  88  64 241 248 339 167 338  86\n",
      "  71 335 374 230 266 240 208 152 179 227 196 274  19 183 104 275  60   4\n",
      " 270 232 261 180 357 356  70]\n",
      "Testing...\n",
      "[ 58 115 286  59  36 139 124  40 364 266 156  98 195 257 316 152 149 128\n",
      " 131 180 179 185 342 252 116 270 192 385  41 273  69   4 129  33  45 362\n",
      "  56 307 117 166 309 232 300 198 355 281 320 126 329  71 389  49  16  17\n",
      " 383 221 259  91 153 197 162 358  83 312 251 248 345 349 360 382 298 159\n",
      "  42 304 106 284 113 317 181 296  67 263 184  95 190  68 210  88 194 142\n",
      " 288  35   0  14  15 168 133 216 390 359  10 224 233 336 322 339 218 147\n",
      "  19 230  79 370 217 171  74 371 239 338  93 335 225 222  86 341 220  94\n",
      "  38 366 337 123 287 331   9 172 175 121 384 101 223  65 247 245  54  46\n",
      " 206  70  87 203 226  44 170 303  18 333 292 204 280 388 269 186  82 182\n",
      " 135  26  64 376 178  81 306 321 118 275 246 169 244 387 344 311 308 354\n",
      " 264 250 150  11 114 108 208 373 160 143 330 109 278 372  76 319 137  77\n",
      " 327 157  12 238 201 367 200 301  63 138 260  97 173 174 242  13 158 215\n",
      " 315 207 235  27 130 240 274 363 145 205 334  43  22 386 279 352 103 213\n",
      " 132 283  51 357 127  99 369 323 346 163  80 255 282 211  78 267 234  75\n",
      "   3  85 314 368  37 380 353  90 374 265 141 299  48 318  84 381 328 378\n",
      " 228 155  61 241  34 231 340 148 154 164 214 256 302 277 125 193 191   1\n",
      " 119   6 188 176 294 229 254 350 351 144  72  73 253 326  52 268  25 305\n",
      " 325 107 293  57  62 219]\n",
      "[100  28 261 104  50   5 177 379  66 249 276  32 110  92 262 297   2 212\n",
      " 112 187 183 237   7 290 227 120  89  96 111 146 202 361 161 310  60  24\n",
      " 289 324 134 151 295 136 285 140  30 291 332 272 375 356 167 196 189 102\n",
      " 258  53  20   8 271  23 105 199 365  55  29 347 348 313 377  21 236  47\n",
      " 209  39 122 243 165 343  31]\n",
      "Testing...\n",
      "[146 310  30 257 244 215  90 108 219 191 361 324 369 152 241  71 321 342\n",
      "  54  27 157  46 165 249 243  11 132 309  41 118 339 288   7  53  73 319\n",
      " 287 298 197 275 292  61 223 389  39 186 119 193  63  92 123 224  37 236\n",
      "  56  40 304  13 239   1 188 320 117 144 258 380 168 228  50 379 314  44\n",
      " 156 227 172 318 206 208 269 120 195 238 101 312   8 301  35  25  36 280\n",
      " 359 213  74 265 325  17  75 207 115 278 205  49 307 212 384 211 340 367\n",
      " 363 306  79 385  33 230  57  80  82 253 316 180 293 214  58 387 134 198\n",
      " 131 210 366 245  72 126  64 328 166 271  32  18 240 329 344  23 358 162\n",
      " 374 263 199   6 331 138 181 171 202 338 204 155 373 140 254 135 217 376\n",
      "  94  48 151 283   3 386 182  83 216 305 371  20 268 170 164 116 129 323\n",
      " 311 190  26 163   0  47 264 270 343 110 174 189 281 266 102 127 291 317\n",
      " 225 160 242 273   2  95 248  70 220  15 282  99 179 357 260 109 175 105\n",
      "  97 308 154 382 356 335 184  77 348  66 326  89 113 284  28 125 150 226\n",
      " 272 346 336 201  68 262 303  85  19 279 159 124 276 133  98  12 277 315\n",
      "  43 187 388  34 261  24 345 111 153 121 333 246 231 192  76 218   9 203\n",
      " 337  16 106 274 286 185  69  29 267  96 364 128 334 221 330 256 300 141\n",
      " 100 167 259 297 233 196   4  51 347 158 362  78 251 381  62  91 354 302\n",
      " 390 229 148 349  65 355]\n",
      "[178 295 234 341 136 176 147 149  38 112 322 368 365 252 378 130  60  10\n",
      "  14 350 313 209 290 177 173 294 285 143 145 139 289  86  52 250 232 137\n",
      " 237 183 370 142  88 222  31  87 114  21 332 107 353 372 247 194  93  81\n",
      " 200 169 299 235  59  42 377 383 104 122 103 360 375 351  67 296 161   5\n",
      " 327  22 255  55  45 352  84]\n",
      "Testing...\n",
      "[277 250  75  53 179  11 352 138  51  19 117 119 253 172 139 390 339  98\n",
      " 213 141  44 106   9 245 185 379 186  99  33 101 342 162 227 242 377  57\n",
      " 161 355 189  67 295 149 274 303 321 122 264 220 365 344  69 209 205 216\n",
      " 175 181 169 143 192 291  61 157  86  22 302  32 256  20  77 265 367   7\n",
      "  48 155  79 266 102 238  60 301 153 195 116 236 348  12 254 145 359 337\n",
      " 312  70   1  97  21 124  31 212  90 115  89 204 387 228  73 358 103 268\n",
      "  72 126  54 297 354 257  13 148 165 278 113  92 166 164 208 357 374 182\n",
      " 137  30 280 373 129  34  85 332 325 210 215 383 338 349  56 154  91 229\n",
      " 147 308  25 327 235  49  96 299  41 194 255 304 353  47 275 100  29 273\n",
      "  74 328 378 313 134 193 171 180 214  40 322   5 121 112 388 191 109 279\n",
      " 380  71 259 163 183 152 316 345 131  58 173  46 207  35 135 311  82   8\n",
      "   3 211  10  14 197 370   4 170  17 351 361  83 318 285 343 160 335 284\n",
      " 384 272 178 366 239 114 287 262 292  63 290 217  24 346  68  65 324 249\n",
      "  28 237  23  66 188 258 219 218 300 244 323 309 252 203 347 232 105  84\n",
      " 260 381 142  15 127 231 350 251 184 111 226 376  38 234 385  36  52 341\n",
      " 319 270 150 176 317 168 282 360 240 108 177  50  64  76 314  93 243   6\n",
      "  37 167 233 132  42 246 364  27 190 144 368 133 267 331 372 276 269 286\n",
      " 198 386 305 123 128 310]\n",
      "[333 224 315 294 156  45 293 369 200 334 230 307  18  81  94 136 120 196\n",
      "  43 248 289 125 247 371  95 296 104 158 281 306 336 363 263  26 329 375\n",
      " 356  88  78 202 271 151 107 288  80  62 326 206 241  55  39 110 187 174\n",
      " 389 362 140 118 146  87 221 222 330   0 283  59 159 130 298 320 382  16\n",
      " 340 199 225 223 261   2 201]\n",
      "Testing...\n",
      "[340 133 252 379   0  14 294  45 289 213 183 189  78 119  77 142 215 220\n",
      " 285  25 227 386  12 381 211 332 204 246 179 292 134 359 239 222 327 180\n",
      "  98 200  89 165  33 309 116 283 287 127 163  37 312 317 389 378  35 273\n",
      " 297 188 350 185  74 201 114 131  61 325 351  88 284  97 343  84  43 153\n",
      " 361  16 148 120 230  93 268  94  51 245 349 161   1  69 149 226  67 363\n",
      "  21 210 178 101  96 357 205  19  70 261  85  56   7  47 305  55 117 174\n",
      " 219 266 375 322 358  53 288  83 306 281 258 383 251 125  44  63 192  92\n",
      " 267  80 112 216 314 328 388 207  46 263 385 108 218 223 162 376 368 307\n",
      "  42 339 173 190 280 303 254 132 270 304  48 233 338 336 337 100 209  52\n",
      " 172  75 387 128 355 265 166 167 202 250 130 208 224 203 352 198 326 124\n",
      "  23  57  86 248 170 118 182  41 171 159 135  36 194  28 228  73 345  38\n",
      " 238 240   5 221 152 104 371 353 151  81 334 269 296 199 111 310 348 344\n",
      " 140 187 110  11   3 313 335 259 316 247 255 241 342 164 299 293 102 384\n",
      " 129  40 279  39 136 126 362  26  71 346 176  50  91  64 374 237 249 264\n",
      " 109  65   8  30  58 175 380 197 229 243 253 160  15 364 347 157 206  54\n",
      " 107 308 282  68  24 137 370 191 177  62  82 365 341 275 139 256 257 382\n",
      " 236 300  34 103 369 138 234  49 333 367  79 366 324 105 276 106  22 286\n",
      " 329 377   9 331 272  66]\n",
      "[ 13 262 321 311  60 390 121 123 169 146 290  95 274 195 147 158  90 154\n",
      " 354 318 186 141 271 122 277 113 115 193 298 168 373  99 217 225 232 244\n",
      " 231  27  72 144 372  32 295  18  20  31 235 155 150 360 212  87 278 302\n",
      " 145 301 242 196  59  76 184   2   4 315   6 323 143 356 330  10  17 260\n",
      " 319  29 320 181 156 291 214]\n"
     ]
    }
   ],
   "source": [
    "for train_index, test_index in cv_sets.split(X_train):\n",
    "    print(\"Testing...\")\n",
    "    print(train_index)\n",
    "    print(test_index)"
   ]
  },
  {
   "cell_type": "code",
   "execution_count": 21,
   "metadata": {
    "collapsed": false,
    "scrolled": true
   },
   "outputs": [
    {
     "ename": "TypeError",
     "evalue": "__init__() got an unexpected keyword argument 'n_splits'",
     "traceback": [
      "\u001b[0;31m---------------------------------------------------------------------------\u001b[0m",
      "\u001b[0;31mTypeError\u001b[0m                                 Traceback (most recent call last)",
      "\u001b[0;32m<ipython-input-21-e30351159ffc>\u001b[0m in \u001b[0;36m<module>\u001b[0;34m()\u001b[0m\n\u001b[1;32m      1\u001b[0m \u001b[0;31m# Fit the training data to the model using grid search\u001b[0m\u001b[0;34m\u001b[0m\u001b[0;34m\u001b[0m\u001b[0m\n\u001b[0;32m----> 2\u001b[0;31m \u001b[0mreg\u001b[0m \u001b[0;34m=\u001b[0m \u001b[0mfit_model\u001b[0m\u001b[0;34m(\u001b[0m\u001b[0mX_train\u001b[0m\u001b[0;34m,\u001b[0m \u001b[0my_train\u001b[0m\u001b[0;34m)\u001b[0m\u001b[0;34m\u001b[0m\u001b[0m\n\u001b[0m\u001b[1;32m      3\u001b[0m \u001b[0;34m\u001b[0m\u001b[0m\n\u001b[1;32m      4\u001b[0m \u001b[0;31m# Produce the value for 'max_depth'\u001b[0m\u001b[0;34m\u001b[0m\u001b[0;34m\u001b[0m\u001b[0m\n\u001b[1;32m      5\u001b[0m \u001b[0mprint\u001b[0m\u001b[0;34m(\u001b[0m\u001b[0;34m\"Parameter 'max_depth' is {} for the optimal model.\"\u001b[0m\u001b[0;34m.\u001b[0m\u001b[0mformat\u001b[0m\u001b[0;34m(\u001b[0m\u001b[0mreg\u001b[0m\u001b[0;34m.\u001b[0m\u001b[0mget_params\u001b[0m\u001b[0;34m(\u001b[0m\u001b[0;34m)\u001b[0m\u001b[0;34m[\u001b[0m\u001b[0;34m'max_depth'\u001b[0m\u001b[0;34m]\u001b[0m\u001b[0;34m)\u001b[0m\u001b[0;34m)\u001b[0m\u001b[0;34m\u001b[0m\u001b[0m\n",
      "\u001b[0;32m<ipython-input-20-4971e4d5d864>\u001b[0m in \u001b[0;36mfit_model\u001b[0;34m(X, y)\u001b[0m\n\u001b[1;32m      4\u001b[0m \u001b[0;34m\u001b[0m\u001b[0m\n\u001b[1;32m      5\u001b[0m     \u001b[0;31m# Create cross-validation sets from the training data\u001b[0m\u001b[0;34m\u001b[0m\u001b[0;34m\u001b[0m\u001b[0m\n\u001b[0;32m----> 6\u001b[0;31m     \u001b[0mcv_sets\u001b[0m \u001b[0;34m=\u001b[0m \u001b[0mShuffleSplit\u001b[0m\u001b[0;34m(\u001b[0m\u001b[0mn_splits\u001b[0m \u001b[0;34m=\u001b[0m \u001b[0;36m10\u001b[0m\u001b[0;34m,\u001b[0m \u001b[0mtest_size\u001b[0m \u001b[0;34m=\u001b[0m \u001b[0;36m0.20\u001b[0m\u001b[0;34m,\u001b[0m \u001b[0mrandom_state\u001b[0m \u001b[0;34m=\u001b[0m \u001b[0;36m0\u001b[0m\u001b[0;34m)\u001b[0m\u001b[0;34m\u001b[0m\u001b[0m\n\u001b[0m\u001b[1;32m      7\u001b[0m     \u001b[0mcv_sets\u001b[0m\u001b[0;34m.\u001b[0m\u001b[0msplit\u001b[0m\u001b[0;34m(\u001b[0m\u001b[0mX\u001b[0m\u001b[0;34m.\u001b[0m\u001b[0mshape\u001b[0m\u001b[0;34m[\u001b[0m\u001b[0;36m0\u001b[0m\u001b[0;34m]\u001b[0m\u001b[0;34m)\u001b[0m\u001b[0;34m\u001b[0m\u001b[0m\n\u001b[1;32m      8\u001b[0m \u001b[0;34m\u001b[0m\u001b[0m\n",
      "\u001b[0;31mTypeError\u001b[0m: __init__() got an unexpected keyword argument 'n_splits'"
     ],
     "output_type": "error"
    }
   ],
   "source": [
    "# Fit the training data to the model using grid search\n",
    "reg = fit_model(X_train, y_train)\n",
    "\n",
    "# Produce the value for 'max_depth'\n",
    "print(\"Parameter 'max_depth' is {} for the optimal model.\".format(reg.get_params()['max_depth']))"
   ]
  },
  {
   "cell_type": "markdown",
   "metadata": {},
   "source": [
    "**Answer: **"
   ]
  },
  {
   "cell_type": "markdown",
   "metadata": {},
   "source": [
    "### Question 10 - Predicting Selling Prices\n",
    "Imagine that you were a real estate agent in the Boston area looking to use this model to help price homes owned by your clients that they wish to sell. You have collected the following information from three of your clients:\n",
    "\n",
    "| Feature | Client 1 | Client 2 | Client 3 |\n",
    "| :---: | :---: | :---: | :---: |\n",
    "| Total number of rooms in home | 5 rooms | 4 rooms | 8 rooms |\n",
    "| Neighborhood poverty level (as %) | 17% | 32% | 3% |\n",
    "| Student-teacher ratio of nearby schools | 15-to-1 | 22-to-1 | 12-to-1 |\n",
    "*What price would you recommend each client sell his/her home at? Do these prices seem reasonable given the values for the respective features?*  \n",
    "**Hint:** Use the statistics you calculated in the **Data Exploration** section to help justify your response.  \n",
    "\n",
    "Run the code block below to have your optimized model make predictions for each client's home."
   ]
  },
  {
   "cell_type": "code",
   "execution_count": null,
   "metadata": {
    "collapsed": false
   },
   "outputs": [],
   "source": [
    "# Produce a matrix for client data\n",
    "client_data = [[5, 17, 15], # Client 1\n",
    "               [4, 32, 22], # Client 2\n",
    "               [8, 3, 12]]  # Client 3\n",
    "\n",
    "# Show predictions\n",
    "for i, price in enumerate(reg.predict(client_data)):\n",
    "    print \"Predicted selling price for Client {}'s home: ${:,.2f}\".format(i+1, price)"
   ]
  },
  {
   "cell_type": "markdown",
   "metadata": {},
   "source": [
    "**Answer: **"
   ]
  },
  {
   "cell_type": "markdown",
   "metadata": {},
   "source": [
    "### Sensitivity\n",
    "An optimal model is not necessarily a robust model. Sometimes, a model is either too complex or too simple to sufficiently generalize to new data. Sometimes, a model could use a learning algorithm that is not appropriate for the structure of the data given. Other times, the data itself could be too noisy or contain too few samples to allow a model to adequately capture the target variable — i.e., the model is underfitted. Run the code cell below to run the `fit_model` function ten times with different training and testing sets to see how the prediction for a specific client changes with the data it's trained on."
   ]
  },
  {
   "cell_type": "code",
   "execution_count": null,
   "metadata": {
    "collapsed": false
   },
   "outputs": [],
   "source": [
    "vs.PredictTrials(features, prices, fit_model, client_data)"
   ]
  },
  {
   "cell_type": "markdown",
   "metadata": {},
   "source": [
    "### Question 11 - Applicability\n",
    "*In a few sentences, discuss whether the constructed model should or should not be used in a real-world setting.*  \n",
    "**Hint:** Some questions to answering:\n",
    "- *How relevant today is data that was collected from 1978?*\n",
    "- *Are the features present in the data sufficient to describe a home?*\n",
    "- *Is the model robust enough to make consistent predictions?*\n",
    "- *Would data collected in an urban city like Boston be applicable in a rural city?*"
   ]
  },
  {
   "cell_type": "markdown",
   "metadata": {},
   "source": [
    "**Answer: **"
   ]
  },
  {
   "cell_type": "markdown",
   "metadata": {},
   "source": [
    "> **Note**: Once you have completed all of the code implementations and successfully answered each question above, you may finalize your work by exporting the iPython Notebook as an HTML document. You can do this by using the menu above and navigating to  \n",
    "**File -> Download as -> HTML (.html)**. Include the finished document along with this notebook as your submission."
   ]
  }
 ],
 "metadata": {
  "anaconda-cloud": {},
  "kernelspec": {
   "display_name": "Python [conda root]",
   "language": "python",
   "name": "conda-root-py"
  },
  "language_info": {
   "codemirror_mode": {
    "name": "ipython",
    "version": 3.0
   },
   "file_extension": ".py",
   "mimetype": "text/x-python",
   "name": "python",
   "nbconvert_exporter": "python",
   "pygments_lexer": "ipython3",
   "version": "3.5.2"
  }
 },
 "nbformat": 4,
 "nbformat_minor": 0
}